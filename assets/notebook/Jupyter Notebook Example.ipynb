{
 "cells": [
  {
   "cell_type": "markdown",
   "id": "1b85999d",
   "metadata": {},
   "source": [
    "## Jupyter Notebook Example\n",
    "\n",
    "This is an example jupyter notebook to show some features of the tool. Find some other jupyter's tips on [towards data science](https://towardsdatascience.com/15-tips-and-tricks-for-jupyter-notebook-that-will-ease-your-coding-experience-e469207ac95c)."
   ]
  },
  {
   "cell_type": "markdown",
   "id": "8b6c1728",
   "metadata": {},
   "source": [
    "### Some Magic\n",
    "\n",
    "Let's start with some magic commands"
   ]
  },
  {
   "cell_type": "code",
   "execution_count": 5,
   "id": "e918deea",
   "metadata": {},
   "outputs": [],
   "source": [
    "%%capture\n",
    "!pip install pandas matplotlib\n",
    "!pip install pickleshare"
   ]
  },
  {
   "cell_type": "markdown",
   "id": "16e5b2b0",
   "metadata": {},
   "source": [
    "Here is the first bit of magic:\n",
    "\n",
    "- `%%catpure` is a magic command that will capture, hence hide the output of a cell\n",
    "    - Jupyter magic commands come from [IPython](https://ipython.readthedocs.io/en/stable/interactive/magics.html) and will usually start with `%`, use `%magic` for info.\n",
    "- `!` in front of the next command allow me to execute a command directly in the terminal\n",
    "    - Here I use this command to install some dependencies "
   ]
  },
  {
   "cell_type": "code",
   "execution_count": 6,
   "id": "9f9f447e",
   "metadata": {},
   "outputs": [
    {
     "data": {
      "text/html": [
       "<p> Look at that html! 🤯</p>\n",
       "<svg width=\"100\" height=\"100\">\n",
       "  <circle cx=\"50\" cy=\"50\" r=\"40\" stroke-width=\"4\" fill=\"tomato\" />\n",
       "</svg>\n"
      ],
      "text/plain": [
       "<IPython.core.display.HTML object>"
      ]
     },
     "metadata": {},
     "output_type": "display_data"
    }
   ],
   "source": [
    "%%HTML\n",
    "<p> Look at that html! 🤯</p>\n",
    "<svg width=\"100\" height=\"100\">\n",
    "  <circle cx=\"50\" cy=\"50\" r=\"40\" stroke-width=\"4\" fill=\"tomato\" />\n",
    "</svg>"
   ]
  },
  {
   "cell_type": "code",
   "execution_count": 7,
   "id": "529cfc58",
   "metadata": {},
   "outputs": [
    {
     "name": "stdout",
     "output_type": "stream",
     "text": [
      "hello world!\n"
     ]
    }
   ],
   "source": [
    "%%ruby\n",
    "# Even ruby\n",
    "puts 'hello world!'"
   ]
  },
  {
   "cell_type": "code",
   "execution_count": 8,
   "id": "cb5b2f3f-eac6-4297-891e-82f74718cd49",
   "metadata": {},
   "outputs": [
    {
     "name": "stdout",
     "output_type": "stream",
     "text": [
      "{'value': 'hello world'}\n",
      "Stored 'my_value' (dict)\n"
     ]
    }
   ],
   "source": [
    "my_value = { 'value': 'hello world' }\n",
    "my_other_value = 'other value'\n",
    "print(my_value)\n",
    "%store my_value"
   ]
  },
  {
   "cell_type": "code",
   "execution_count": 9,
   "id": "97e43166-9ef3-4894-8627-38ee97f78901",
   "metadata": {},
   "outputs": [
    {
     "name": "stdout",
     "output_type": "stream",
     "text": [
      "{'value': 'hello world'}\n",
      "other value\n"
     ]
    }
   ],
   "source": [
    "%store -r my_value\n",
    "print(my_value)\n",
    "print(my_other_value)"
   ]
  },
  {
   "cell_type": "markdown",
   "id": "7c291620",
   "metadata": {},
   "source": [
    "## Jupyter Customisation\n",
    "\n",
    "Let's add some jupyter packages for customization"
   ]
  },
  {
   "cell_type": "code",
   "execution_count": 10,
   "id": "a324c394",
   "metadata": {},
   "outputs": [],
   "source": [
    "%%capture\n",
    "!pip install jupyter_nbextensions_configurator jupyter_contrib_nbextensions jupyterthemes\n",
    "!jupyter contrib nbextensions install"
   ]
  },
  {
   "cell_type": "markdown",
   "id": "9e84f7b0",
   "metadata": {},
   "source": [
    "Everytime you install a package or do an extension modification, you'll have to restart the notebook for the effect to be taken into consideration.\n",
    "You should now see a range of feature in a `Nbextension` tab.\n",
    "\n",
    "You can also customize your notebook...\n",
    "\n",
    "Here is a full list of the available themes from [towardsdatascience.com](https://towardsdatascience.com/7-essential-tips-for-writing-with-jupyter-notebook-60972a1a8901) which is a _must see_ with so many great article about jupyter notebook and datascience!\n",
    "![jupyter-theme.png](jupyter-theme.png)"
   ]
  },
  {
   "cell_type": "code",
   "execution_count": 11,
   "id": "d041b517",
   "metadata": {},
   "outputs": [],
   "source": [
    "%%capture\n",
    "# !jt -l                           # To list the available themes\n",
    "# !jt -t oceans16 -T -N -kl        # To add the theme with tool bar and logo\n",
    "# !jt -r                           # To remove the theme"
   ]
  },
  {
   "cell_type": "markdown",
   "id": "6957a0a0",
   "metadata": {},
   "source": [
    "And like before once you run those commands you will need to restart your jupyter notebook for theme to be accounted for.\n",
    "\n",
    "Basically it adds a `custom.css` in your `~/.jupyter/` folder.\n"
   ]
  },
  {
   "cell_type": "markdown",
   "id": "c06f0148",
   "metadata": {},
   "source": [
    "### Datascience with python\n",
    "Where we use some libraries installed earlier for basic python example.\n",
    "First you need to import the dependencies"
   ]
  },
  {
   "cell_type": "code",
   "execution_count": 12,
   "id": "555e47d6",
   "metadata": {},
   "outputs": [],
   "source": [
    "import pandas as pd\n",
    "import numpy as np"
   ]
  },
  {
   "cell_type": "code",
   "execution_count": 13,
   "id": "e64bf658",
   "metadata": {},
   "outputs": [
    {
     "data": {
      "text/html": [
       "<div>\n",
       "<style scoped>\n",
       "    .dataframe tbody tr th:only-of-type {\n",
       "        vertical-align: middle;\n",
       "    }\n",
       "\n",
       "    .dataframe tbody tr th {\n",
       "        vertical-align: top;\n",
       "    }\n",
       "\n",
       "    .dataframe thead th {\n",
       "        text-align: right;\n",
       "    }\n",
       "</style>\n",
       "<table border=\"1\" class=\"dataframe\">\n",
       "  <thead>\n",
       "    <tr style=\"text-align: right;\">\n",
       "      <th></th>\n",
       "      <th>A</th>\n",
       "      <th>B</th>\n",
       "      <th>C</th>\n",
       "    </tr>\n",
       "  </thead>\n",
       "  <tbody>\n",
       "    <tr>\n",
       "      <th>0</th>\n",
       "      <td>1</td>\n",
       "      <td>2</td>\n",
       "      <td>first</td>\n",
       "    </tr>\n",
       "    <tr>\n",
       "      <th>1</th>\n",
       "      <td>2</td>\n",
       "      <td>3</td>\n",
       "      <td>.</td>\n",
       "    </tr>\n",
       "    <tr>\n",
       "      <th>2</th>\n",
       "      <td>2</td>\n",
       "      <td>2</td>\n",
       "      <td>..</td>\n",
       "    </tr>\n",
       "  </tbody>\n",
       "</table>\n",
       "</div>"
      ],
      "text/plain": [
       "   A  B      C\n",
       "0  1  2  first\n",
       "1  2  3      .\n",
       "2  2  2     .."
      ]
     },
     "execution_count": 13,
     "metadata": {},
     "output_type": "execute_result"
    }
   ],
   "source": [
    "# df = pd.read_csv('example.csv', header=0)\n",
    "df = pd.DataFrame({\n",
    "    'A':['1','2','2','4','5','2'], \n",
    "    'B':np.random.randint(5, size=6), \n",
    "    'C':['first','.','..','...','....','last']})\n",
    "df.head(3)"
   ]
  },
  {
   "cell_type": "markdown",
   "id": "b92a14ce",
   "metadata": {},
   "source": [
    "\n",
    "Once you have loaded your data you can save it to multiple format like `.csv` with:\n",
    "\n",
    "```python\n",
    "df.to_csv('example.csv', index=False)\n",
    "```\n",
    "\n",
    "Write down some useful methods with pandas dataframe to transform or present your data\n",
    "\n"
   ]
  },
  {
   "cell_type": "code",
   "execution_count": 14,
   "id": "c3aabb72",
   "metadata": {},
   "outputs": [
    {
     "data": {
      "text/plain": [
       "{'1': [0], '2': [1, 2, 5], '4': [3], '5': [4]}"
      ]
     },
     "execution_count": 14,
     "metadata": {},
     "output_type": "execute_result"
    }
   ],
   "source": [
    "df.groupby('A').groups"
   ]
  },
  {
   "cell_type": "code",
   "execution_count": 15,
   "id": "1d80bbd1",
   "metadata": {},
   "outputs": [
    {
     "name": "stdout",
     "output_type": "stream",
     "text": [
      "You can get the [ first ] and [ last ] of a column\n"
     ]
    }
   ],
   "source": [
    "print(\"You can get the [ {} ] and [ {} ] of a column\"\n",
    "      .format(df['C'].iat[0], df['C'].iat[-1]))\n",
    "    "
   ]
  },
  {
   "cell_type": "code",
   "execution_count": 16,
   "id": "491add71",
   "metadata": {},
   "outputs": [
    {
     "name": "stdout",
     "output_type": "stream",
     "text": [
      "Number of rows: 6\n"
     ]
    }
   ],
   "source": [
    "print(\"Number of rows: {}\".format(df.shape[0]))"
   ]
  },
  {
   "cell_type": "code",
   "execution_count": 17,
   "id": "26486862",
   "metadata": {},
   "outputs": [
    {
     "data": {
      "image/png": "[encoded data removed]",
      "text/plain": [
       "<Figure size 640x480 with 1 Axes>"
      ]
     },
     "metadata": {},
     "output_type": "display_data"
    }
   ],
   "source": [
    "df.drop(['C'], axis=1)\n",
    "df['A'] = df['A'].apply(lambda x: int(x))\n",
    "df['B'] = df['B'].apply(lambda x: int(x))\n",
    "plot = df.plot.pie(y='A')"
   ]
  }
 ],
 "metadata": {
  "kernelspec": {
   "display_name": "Python 3 (ipykernel)",
   "language": "python",
   "name": "python3"
  },
  "language_info": {
   "codemirror_mode": {
    "name": "ipython",
    "version": 3
   },
   "file_extension": ".py",
   "mimetype": "text/x-python",
   "name": "python",
   "nbconvert_exporter": "python",
   "pygments_lexer": "ipython3",
   "version": "3.12.1"
  }
 },
 "nbformat": 4,
 "nbformat_minor": 5
}
